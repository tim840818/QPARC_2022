{
 "cells": [
  {
   "cell_type": "markdown",
   "metadata": {},
   "source": [
    "## Second-Quantization Comparison of $H_2$ Molecule\n",
    "\n",
    "In this work, we prepare two kinds of Second-Quantized Hamiltonian from `PySCF` and Qulacs for comparison. The prepared Hamiltonians are then transfered to JW-Hamiltonians from `openfermion`, and the ground-state energy are calculated by implementing the Hamiltonians into quantum circuits constructed by `Qulacs`. The calculations are done by VQE algorithm, and the quantum circuits are constructed with hardware efficient ansatz shown in [Qulacs](http://docs.qulacs.org/en/latest/apply/6.2_vqe.html). The results are compared with SCF results from `PySCF` and FCI results from `Qulacs`."
   ]
  },
  {
   "cell_type": "markdown",
   "metadata": {},
   "source": [
    "First, basic packages are imported."
   ]
  },
  {
   "cell_type": "code",
   "execution_count": 90,
   "metadata": {},
   "outputs": [],
   "source": [
    "import numpy as np\n",
    "import matplotlib.pyplot as plt\n",
    "\n",
    "import qulacs\n",
    "from openfermion.transforms import get_fermion_operator, jordan_wigner\n",
    "# from openfermion.transforms import get_sparse_operator\n",
    "from openfermion.linalg import get_sparse_operator\n",
    "# from openfermion.hamiltonians import MolecularData\n",
    "from openfermion.chem import MolecularData\n",
    "from openfermionpyscf import run_pyscf\n",
    "from scipy.optimize import minimize\n",
    "from pyscf import fci, lo\n",
    "\n",
    "from openfermion.ops import InteractionOperator"
   ]
  },
  {
   "cell_type": "markdown",
   "metadata": {},
   "source": [
    "### Second-quantized Hamiltonian from PySCF\n",
    "The second-quantized Hamiltonian is acquired from `PySCF`, and the calculation is performed in the quantum circuit constructed by `Qulac`."
   ]
  },
  {
   "cell_type": "markdown",
   "metadata": {},
   "source": [
    "The $H_2$ molecule structure is constructed by PySCF with distance = 0.87 Angstrom and orbital basis = 'sto-3g'. There are 2 orbitals, corresponding to 2 qubits in the following quantum calculation."
   ]
  },
  {
   "cell_type": "code",
   "execution_count": 91,
   "metadata": {},
   "outputs": [
    {
     "name": "stdout",
     "output_type": "stream",
     "text": [
      "['0 H 1s    ', '1 H 1s    ']\n",
      "2\n"
     ]
    }
   ],
   "source": [
    "from pyscf import gto, dft, scf, cc, df, ao2mo\n",
    "\n",
    "mole_H2 = gto.M(\n",
    "    atom = '''H  0 0 0; H 0 0 0.87''',\n",
    "    basis = 'sto-3g', # '6-31g'\n",
    "    # symmetry = True,\n",
    "    # charge = 0,\n",
    ")\n",
    "H2_ao = mole_H2.ao_labels(); print(H2_ao)\n",
    "n_qubit = len(H2_ao); print(n_qubit)"
   ]
  },
  {
   "cell_type": "markdown",
   "metadata": {},
   "source": [
    "We first require the SCF energy from SCF calculations provided by `PySCF`. 'mocoeff' is also acquired for mo Hamiltonians."
   ]
  },
  {
   "cell_type": "code",
   "execution_count": 92,
   "metadata": {},
   "outputs": [
    {
     "name": "stdout",
     "output_type": "stream",
     "text": [
      "converged SCF energy = -1.0985065850866\n"
     ]
    }
   ],
   "source": [
    "# import re\n",
    "mocoeff = mole_H2.RHF().run().mo_coeff\n",
    "# print(mocoeff)\n",
    "# E_SCF = re.search(r'=\\s*{}')"
   ]
  },
  {
   "cell_type": "code",
   "execution_count": 93,
   "metadata": {},
   "outputs": [],
   "source": [
    "def round2(A, d=1):\n",
    "    return np.round(A, d)"
   ]
  },
  {
   "cell_type": "markdown",
   "metadata": {},
   "source": [
    "The one-body ao integrals (kin + nuc) and two-body ao integrals (twobody_ao) are computed and transformed into molecular-orbital values."
   ]
  },
  {
   "cell_type": "code",
   "execution_count": 94,
   "metadata": {},
   "outputs": [],
   "source": [
    "kin = mole_H2.intor('int1e_kin')\n",
    "nuc = mole_H2.intor('int1e_nuc')\n",
    "# ovlp = mole_H2.intor('int1e_ovlp')\n",
    "twobody_ao = mole_H2.intor('int2e')"
   ]
  },
  {
   "cell_type": "code",
   "execution_count": 95,
   "metadata": {},
   "outputs": [],
   "source": [
    "core_ao = kin + nuc\n",
    "core_mo = np.einsum('pi,pq,qj->ij', mocoeff, core_ao, mocoeff)\n",
    "twobody_mo = ao2mo.incore.full(twobody_ao, mocoeff)"
   ]
  },
  {
   "cell_type": "markdown",
   "metadata": {},
   "source": [
    "Jordan-Wigner Hamiltonians are constructed by `openfermion` packages."
   ]
  },
  {
   "cell_type": "code",
   "execution_count": 96,
   "metadata": {},
   "outputs": [],
   "source": [
    "mole_H2_Hamiltonian = InteractionOperator(0, core_mo, twobody_mo)\n",
    "fermionic_hamiltonian = get_fermion_operator(mole_H2_Hamiltonian)\n",
    "jw_hamiltonian = jordan_wigner(fermionic_hamiltonian)"
   ]
  },
  {
   "cell_type": "code",
   "execution_count": 97,
   "metadata": {},
   "outputs": [
    {
     "name": "stdout",
     "output_type": "stream",
     "text": [
      "(-0.8606472293353598+0j) [] +\n",
      "(0.5892227766564004+0j) [Z0] +\n",
      "(0.2714244526789594+0j) [Z1]\n"
     ]
    }
   ],
   "source": [
    "print(jw_hamiltonian)"
   ]
  },
  {
   "cell_type": "markdown",
   "metadata": {},
   "source": [
    "Hardware efficient ansatz quantum circuits and VQE cost functions from [`Qulac`](http://docs.qulacs.org/en/latest/apply/6.2_vqe.html)."
   ]
  },
  {
   "cell_type": "code",
   "execution_count": 98,
   "metadata": {},
   "outputs": [],
   "source": [
    "from qulacs import Observable\n",
    "from qulacs.observable import create_observable_from_openfermion_text\n",
    "\n",
    "from qulacs import QuantumState, QuantumCircuit\n",
    "from qulacs.gate import CZ, RY, RZ, merge\n",
    "\n",
    "def he_ansatz_circuit(n_qubit, depth, theta_list):\n",
    "    \"\"\"he_ansatz_circuit\n",
    "    Returns hardware efficient ansatz circuit.\n",
    "\n",
    "    Args:\n",
    "        n_qubit (:class:`int`):\n",
    "            the number of qubit used (equivalent to the number of fermionic modes)\n",
    "        depth (:class:`int`):\n",
    "            depth of the circuit.\n",
    "        theta_list (:class:`numpy.ndarray`):\n",
    "            rotation angles.\n",
    "    Returns:\n",
    "        :class:`qulacs.QuantumCircuit`\n",
    "    \"\"\"\n",
    "    circuit = QuantumCircuit(n_qubit)\n",
    "    for d in range(depth):\n",
    "        for i in range(n_qubit):\n",
    "            circuit.add_gate(merge(RY(i, theta_list[2*i+2*n_qubit*d]), RZ(i, theta_list[2*i+1+2*n_qubit*d])))\n",
    "        for i in range(n_qubit//2):\n",
    "            circuit.add_gate(CZ(2*i, 2*i+1))\n",
    "        for i in range(n_qubit//2-1):\n",
    "            circuit.add_gate(CZ(2*i+1, 2*i+2))\n",
    "    for i in range(n_qubit):\n",
    "        circuit.add_gate(merge(RY(i, theta_list[2*i+2*n_qubit*depth]), RZ(i, theta_list[2*i+1+2*n_qubit*depth])))\n",
    "\n",
    "    return circuit"
   ]
  },
  {
   "cell_type": "code",
   "execution_count": 99,
   "metadata": {},
   "outputs": [],
   "source": [
    "def cost(theta_list):\n",
    "    state = QuantumState(n_qubit) #Prepare |00000>\n",
    "    circuit = he_ansatz_circuit(n_qubit, depth, theta_list) #Construct quantum circuit\n",
    "    circuit.update_quantum_state(state) #Operate quantum circuit on state\n",
    "    return qulacs_hamiltonian.get_expectation_value(state) #Calculate expectation value of Hamiltonian"
   ]
  },
  {
   "cell_type": "code",
   "execution_count": 100,
   "metadata": {},
   "outputs": [],
   "source": [
    "depth = n_qubit\n",
    "\n",
    "qulacs_hamiltonian = create_observable_from_openfermion_text(str(jw_hamiltonian))\n",
    "cost_history_pyscf = []\n",
    "init_theta_list = np.random.random(2*n_qubit*(depth+1))*1e-1\n",
    "cost_history_pyscf.append(cost(init_theta_list))\n",
    "method = \"BFGS\"\n",
    "options = {\"disp\": True, \"maxiter\": 40, \"gtol\": 1e-6}\n",
    "opt = minimize(cost, init_theta_list,\n",
    "               method=method,\n",
    "               callback=lambda x: cost_history_pyscf.append(cost(x)))"
   ]
  },
  {
   "cell_type": "code",
   "execution_count": 101,
   "metadata": {},
   "outputs": [
    {
     "data": {
      "image/png": "[encoded data removed]",
      "text/plain": [
       "<Figure size 432x288 with 1 Axes>"
      ]
     },
     "metadata": {
      "needs_background": "light"
     },
     "output_type": "display_data"
    }
   ],
   "source": [
    "plt.rcParams[\"font.size\"] = 18\n",
    "plt.plot(cost_history_pyscf, color=\"red\", label=\"PySCF-VQE\")\n",
    "plt.xlabel(\"Iteration\")\n",
    "plt.ylabel(\"Energy expectation value\")\n",
    "plt.legend()\n",
    "plt.show()"
   ]
  },
  {
   "cell_type": "markdown",
   "metadata": {},
   "source": [
    "### Second-quantized Hamiltonian from Qulac\n",
    "The second-quantized Hamiltonian is gotten from `Qulac`, and the calculation is performed in the same quantum circuit constructed by `Qulac`."
   ]
  },
  {
   "cell_type": "markdown",
   "metadata": {},
   "source": [
    "The $H_2$ molecule structure is constructed by `Qulacs` with same distance(0.87 Angstrom) and same orbital basis('sto-3g'). There are 4 orbitals, corresponding to 4 qubits in the following quantum calculation."
   ]
  },
  {
   "cell_type": "code",
   "execution_count": 102,
   "metadata": {},
   "outputs": [
    {
     "name": "stdout",
     "output_type": "stream",
     "text": [
      "4\n"
     ]
    }
   ],
   "source": [
    "basis = \"sto-3g\"\n",
    "multiplicity = 1\n",
    "charge = 0\n",
    "distance  = 0.87\n",
    "geometry = [[\"H\", [0,0,0]],[\"H\", [0,0,distance]]]\n",
    "description  = \"tmp\"\n",
    "molecule = MolecularData(geometry, basis, multiplicity, charge, description)\n",
    "molecule = run_pyscf(molecule,run_scf=1,run_fci=1)\n",
    "n_qubit = molecule.n_qubits\n",
    "n_electron = molecule.n_electrons\n",
    "\n",
    "print(n_qubit)"
   ]
  },
  {
   "cell_type": "markdown",
   "metadata": {},
   "source": [
    "Get Jordan-Wigner Hamiltonians."
   ]
  },
  {
   "cell_type": "code",
   "execution_count": 103,
   "metadata": {},
   "outputs": [
    {
     "name": "stdout",
     "output_type": "stream",
     "text": [
      "(-0.2343583602690013+0j) [] +\n",
      "(-0.04718928105724672+0j) [X0 X1 Y2 Y3] +\n",
      "(0.04718928105724672+0j) [X0 Y1 Y2 X3] +\n",
      "(0.04718928105724672+0j) [Y0 X1 X2 Y3] +\n",
      "(-0.04718928105724672+0j) [Y0 Y1 X2 X3] +\n",
      "(0.15293503095916822+0j) [Z0] +\n",
      "(0.16253371345371698+0j) [Z0 Z1] +\n",
      "(0.11328237559313416+0j) [Z0 Z2] +\n",
      "(0.16047165665038088+0j) [Z0 Z3] +\n",
      "(0.15293503095916822+0j) [Z1] +\n",
      "(0.16047165665038088+0j) [Z1 Z2] +\n",
      "(0.11328237559313416+0j) [Z1 Z3] +\n",
      "(-0.17097423230138864+0j) [Z2] +\n",
      "(0.1686446527368329+0j) [Z2 Z3] +\n",
      "(-0.17097423230138864+0j) [Z3]\n"
     ]
    }
   ],
   "source": [
    "mole_H = molecule.get_molecular_hamiltonian()\n",
    "fermionic_hamiltonian = get_fermion_operator(mole_H)\n",
    "jw_hamiltonian = jordan_wigner(fermionic_hamiltonian)\n",
    "print(jw_hamiltonian)"
   ]
  },
  {
   "cell_type": "code",
   "execution_count": 104,
   "metadata": {},
   "outputs": [],
   "source": [
    "depth = n_qubit\n",
    "\n",
    "qulacs_hamiltonian = create_observable_from_openfermion_text(str(jw_hamiltonian))\n",
    "cost_history_qulac = []\n",
    "init_theta_list = np.random.random(2*n_qubit*(depth+1))*1e-1\n",
    "cost_history_qulac.append(cost(init_theta_list))\n",
    "method = \"BFGS\"\n",
    "options = {\"disp\": True, \"maxiter\": 40, \"gtol\": 1e-6}\n",
    "opt = minimize(cost, init_theta_list,\n",
    "               method=method,\n",
    "               callback=lambda x: cost_history_qulac.append(cost(x)))"
   ]
  },
  {
   "cell_type": "code",
   "execution_count": 105,
   "metadata": {},
   "outputs": [
    {
     "data": {
      "image/png": "[encoded data removed]",
      "text/plain": [
       "<Figure size 432x288 with 1 Axes>"
      ]
     },
     "metadata": {
      "needs_background": "light"
     },
     "output_type": "display_data"
    }
   ],
   "source": [
    "plt.rcParams[\"font.size\"] = 18\n",
    "plt.plot(cost_history_qulac, color=\"blue\", label=\"Qulacs-VQE\")\n",
    "plt.xlabel(\"Iteration\")\n",
    "plt.ylabel(\"Energy expectation value\")\n",
    "plt.legend()\n",
    "plt.show()"
   ]
  },
  {
   "cell_type": "code",
   "execution_count": 106,
   "metadata": {},
   "outputs": [
    {
     "data": {
      "image/png": "[encoded data removed]",
      "text/plain": [
       "<Figure size 432x288 with 1 Axes>"
      ]
     },
     "metadata": {
      "needs_background": "light"
     },
     "output_type": "display_data"
    }
   ],
   "source": [
    "E_SCF = -1.0985\n",
    "# print(len(cost_history_qulac))\n",
    "iters = max(len(cost_history_qulac), len(cost_history_pyscf))\n",
    "plt.rcParams[\"font.size\"] = 18\n",
    "\n",
    "plt.plot(cost_history_pyscf, color=\"red\", label=\"PySCF-VQE\")\n",
    "plt.plot(cost_history_qulac, color=\"blue\", label=\"Qulacs-VQE\")\n",
    "plt.plot(range(iters), [E_SCF]*iters, linestyle=\"dashed\", color=\"green\", label=\"SCF\")\n",
    "plt.plot(range(iters), [molecule.fci_energy]*iters, linestyle=\"dashed\", color=\"black\", label=\"FCI\")\n",
    "\n",
    "plt.title(\"Ground state energy of H2 molecule\", fontsize=16)\n",
    "plt.xlabel(\"Iteration\", fontsize=12)\n",
    "plt.ylabel(\"Energy expectation value (Hartree)\", fontsize=12)\n",
    "plt.legend(fontsize=13)\n",
    "plt.show()"
   ]
  },
  {
   "cell_type": "code",
   "execution_count": 107,
   "metadata": {},
   "outputs": [
    {
     "name": "stdout",
     "output_type": "stream",
     "text": [
      "E_SCF -1.0985 Hartree\n",
      "E_FCI -1.125445863448971 Hartree\n",
      "E_Qulacs -1.112297970952459 Hartree\n",
      "E_PySCF -1.6429961181789212 Hartree\n"
     ]
    }
   ],
   "source": [
    "print(\"E_SCF\", E_SCF, 'Hartree')\n",
    "print(\"E_FCI\", molecule.fci_energy, 'Hartree')\n",
    "print(\"E_Qulacs\", np.mean(cost_history_qulac[5:]), 'Hartree')\n",
    "print(\"E_PySCF\", np.mean(cost_history_pyscf[5:]), 'Hartree')"
   ]
  },
  {
   "cell_type": "markdown",
   "metadata": {},
   "source": [
    "From the results above, we notice that the ground state energy from the `PySCF` Hamiltonian is about 0.6 Hartree lower than other results. There might be some parameters missing that leads to this difference."
   ]
  }
 ],
 "metadata": {
  "interpreter": {
   "hash": "916dbcbb3f70747c44a77c7bcd40155683ae19c65e1c03b4aa3499c5328201f1"
  },
  "kernelspec": {
   "display_name": "Python 3.8.10 64-bit",
   "language": "python",
   "name": "python3"
  },
  "language_info": {
   "codemirror_mode": {
    "name": "ipython",
    "version": 3
   },
   "file_extension": ".py",
   "mimetype": "text/x-python",
   "name": "python",
   "nbconvert_exporter": "python",
   "pygments_lexer": "ipython3",
   "version": "3.8.10"
  },
  "orig_nbformat": 4
 },
 "nbformat": 4,
 "nbformat_minor": 2
}
